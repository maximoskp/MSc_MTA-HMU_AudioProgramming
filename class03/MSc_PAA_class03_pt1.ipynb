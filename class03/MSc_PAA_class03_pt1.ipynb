{
  "nbformat": 4,
  "nbformat_minor": 0,
  "metadata": {
    "colab": {
      "name": "MSc_PAA_class03_pt1.ipynb",
      "provenance": [],
      "collapsed_sections": []
    },
    "kernelspec": {
      "name": "python3",
      "display_name": "Python 3"
    },
    "language_info": {
      "name": "python"
    }
  },
  "cells": [
    {
      "cell_type": "code",
      "metadata": {
        "colab": {
          "base_uri": "https://localhost:8080/"
        },
        "id": "EXt0DziZAk15",
        "outputId": "dbfdd946-f840-404e-9b64-2d965c00d66a"
      },
      "source": [
        "# revision\n",
        "# sets\n",
        "s1 = {1,2,3,2,3,2,1,2,3,2,1}\n",
        "s2 = {3,2,1,2}\n",
        "\n",
        "print('s1: ', s1)\n",
        "print('s2: ', s2)\n",
        "print('s1 == s2: ', s1 == s2)"
      ],
      "execution_count": null,
      "outputs": [
        {
          "output_type": "stream",
          "name": "stdout",
          "text": [
            "s1:  {1, 2, 3}\n",
            "s2:  {1, 2, 3}\n",
            "s1 == s2:  True\n"
          ]
        },
        {
          "output_type": "execute_result",
          "data": {
            "text/plain": [
              "3"
            ]
          },
          "metadata": {},
          "execution_count": 8
        }
      ]
    },
    {
      "cell_type": "code",
      "metadata": {
        "colab": {
          "base_uri": "https://localhost:8080/"
        },
        "id": "D9FyenWHDZc7",
        "outputId": "cf70ccc8-6ea6-44aa-c8f8-cb7a3c8826ce"
      },
      "source": [
        "# list\n",
        "s1 = [1,2,3,2]\n",
        "s2 = [3,2,1,2]\n",
        "\n",
        "print('s1: ', s1)\n",
        "print('s2: ', s2)\n",
        "print('s1 == s2: ', s1 == s2)\n",
        "\n",
        "# retrieving value by index\n",
        "x = s1[2]\n",
        "print('x: ', x)\n",
        "\n",
        "t = '1.69'\n",
        "s = '1.31'\n",
        "print('t + s: ', t + s)"
      ],
      "execution_count": null,
      "outputs": [
        {
          "output_type": "stream",
          "name": "stdout",
          "text": [
            "s1:  [1, 2, 3, 2]\n",
            "s2:  [3, 2, 1, 2]\n",
            "s1 == s2:  False\n",
            "x:  3\n",
            "t + s:  1.691.31\n"
          ]
        }
      ]
    },
    {
      "cell_type": "code",
      "metadata": {
        "colab": {
          "base_uri": "https://localhost:8080/"
        },
        "id": "snTCQ8QrHZ3o",
        "outputId": "1ae8dbf8-0b77-44bd-c67b-e1899ff80a72"
      },
      "source": [
        "# dictionaries\n",
        "d = {\n",
        "    'name'      : 'Max',\n",
        "    'height'    : 1.69,\n",
        "    'fav_foods' : ['makaronia', 'revithia', 'pitogyra']\n",
        "}\n",
        "\n",
        "print('d: ', d)\n",
        "# n = d[0] # ERROR: KeyError: 0 - doesn't know any key '0'\n",
        "n = d['name']\n",
        "print('n: ', n)\n",
        "\n",
        "f = d['fav_foods']\n",
        "print(f[2])\n",
        "\n",
        "f = d['fav_foods'][2]\n",
        "print(f)"
      ],
      "execution_count": null,
      "outputs": [
        {
          "output_type": "stream",
          "name": "stdout",
          "text": [
            "d:  {'name': 'Max', 'height': 1.69, 'fav_foods': ['makaronia', 'revithia', 'pitogyra']}\n",
            "n:  Max\n",
            "pitogyra\n",
            "pitogyra\n"
          ]
        }
      ]
    },
    {
      "cell_type": "code",
      "metadata": {
        "colab": {
          "base_uri": "https://localhost:8080/"
        },
        "id": "B82-9CGkLRw1",
        "outputId": "41eb83ec-c151-4e4e-8089-af5d1ce53a2e"
      },
      "source": [
        "# deleting and creating new dictionary key-value pairs\n",
        "d = {\n",
        "    'name'      : 'Max',\n",
        "    'height'    : 1.69,\n",
        "    'fav_foods' : ['makaronia', 'revithia', 'pitogyra']\n",
        "}\n",
        "\n",
        "# delete ditionary element with key 'height'\n",
        "del d['height']\n",
        "print('d: ', d)\n",
        "\n",
        "# add new entry\n",
        "d['weight'] = 60\n",
        "print('d: ', d)\n",
        "\n",
        "# get keys and values separately\n",
        "print( d.keys() )\n",
        "print( d.values() )"
      ],
      "execution_count": null,
      "outputs": [
        {
          "output_type": "stream",
          "name": "stdout",
          "text": [
            "d:  {'name': 'Max', 'fav_foods': ['makaronia', 'revithia', 'pitogyra']}\n",
            "d:  {'name': 'Max', 'fav_foods': ['makaronia', 'revithia', 'pitogyra'], 'weight': 60}\n",
            "dict_keys(['name', 'fav_foods', 'weight'])\n",
            "dict_values(['Max', ['makaronia', 'revithia', 'pitogyra'], 60])\n"
          ]
        }
      ]
    },
    {
      "cell_type": "code",
      "metadata": {
        "id": "ExjlnoeFLK1y",
        "colab": {
          "base_uri": "https://localhost:8080/"
        },
        "outputId": "a78d301f-d0a9-44cd-c445-a69919984d0f"
      },
      "source": [
        "# shallow vs deep copy\n",
        "d = {\n",
        "    'name'      : 'Max',\n",
        "    'height'    : 1.69,\n",
        "    'fav_foods' : ['makaronia', 'revithia', 'pitogyra']\n",
        "}\n",
        "\n",
        "# shallow copy\n",
        "g = d\n",
        "# g = {\n",
        "#     'name'      : 'Max',\n",
        "#     'height'    : 1.69,\n",
        "#     'fav_foods' : ['makaronia', 'revithia', 'pitogyra']\n",
        "# }\n",
        "\n",
        "print( id( d ) )\n",
        "print( id( g ) )\n",
        "\n",
        "g['name'] = 'Evita' # does not change its id, still equal to d\n",
        "print( id( d ) )\n",
        "print( id( g ) )\n",
        "\n",
        "\n",
        "print('d: ', d)"
      ],
      "execution_count": null,
      "outputs": [
        {
          "output_type": "stream",
          "name": "stdout",
          "text": [
            "140300499730992\n",
            "140300499732592\n",
            "140300499730992\n",
            "140300499732592\n",
            "d:  {'name': 'Max', 'height': 1.69, 'fav_foods': ['makaronia', 'revithia', 'pitogyra']}\n"
          ]
        }
      ]
    },
    {
      "cell_type": "code",
      "metadata": {
        "colab": {
          "base_uri": "https://localhost:8080/"
        },
        "id": "Rx_2v_AIU1Mu",
        "outputId": "9229f183-9810-4cb1-9d27-d4a4774677e4"
      },
      "source": [
        "import copy\n",
        "\n",
        "d = {\n",
        "    'name'      : 'Max',\n",
        "    'height'    : 1.69,\n",
        "    'fav_foods' : ['makaronia', 'revithia', 'pitogyra']\n",
        "}\n",
        "\n",
        "# shallow copy\n",
        "# g = d\n",
        "# do deep copy instead\n",
        "g = copy.deepcopy(d)\n",
        "\n",
        "print( id( d ) )\n",
        "print( id( g ) )\n",
        "\n",
        "g['name'] = 'Evita' # does not change its id, still equal to d\n",
        "print( id( d ) )\n",
        "print( id( g ) )\n",
        "\n",
        "print('d: ', d)"
      ],
      "execution_count": null,
      "outputs": [
        {
          "output_type": "stream",
          "name": "stdout",
          "text": [
            "140300568197632\n",
            "140300499157792\n",
            "140300568197632\n",
            "140300499157792\n",
            "d:  {'name': 'Max', 'height': 1.69, 'fav_foods': ['makaronia', 'revithia', 'pitogyra']}\n"
          ]
        }
      ]
    },
    {
      "cell_type": "code",
      "metadata": {
        "id": "FtwrHX-VWA1E"
      },
      "source": [
        "# functions\n",
        "def print_stuff():\n",
        "    print('This is what the function prints')\n",
        "    print('and it\\'s awesome!')\n",
        "    print(\"and it's awesome!\")"
      ],
      "execution_count": null,
      "outputs": []
    },
    {
      "cell_type": "code",
      "metadata": {
        "colab": {
          "base_uri": "https://localhost:8080/"
        },
        "id": "LU9nOEBuWY7O",
        "outputId": "dbec43bd-fd89-4a8e-f249-5b9861ba565d"
      },
      "source": [
        "print('before function call')\n",
        "print_stuff()\n",
        "print('after function call')"
      ],
      "execution_count": null,
      "outputs": [
        {
          "output_type": "stream",
          "name": "stdout",
          "text": [
            "before function call\n",
            "This is what the function prints\n",
            "and it's awesome!\n",
            "and it's awesome!\n",
            "after function call\n"
          ]
        }
      ]
    },
    {
      "cell_type": "code",
      "metadata": {
        "id": "LOnf4kMeYTz0"
      },
      "source": [
        "def print_stuff2( s ):\n",
        "    print( 'this is what the function prints: ' + str(s) )"
      ],
      "execution_count": null,
      "outputs": []
    },
    {
      "cell_type": "code",
      "metadata": {
        "colab": {
          "base_uri": "https://localhost:8080/"
        },
        "id": "OiTOlz7QZcwd",
        "outputId": "712c135a-3ba8-4475-9f41-5a37aaff5cd8"
      },
      "source": [
        "print('before function call')\n",
        "print_stuff2( {'name': 'max', 'height': 1.69} )\n",
        "print('after function call')"
      ],
      "execution_count": null,
      "outputs": [
        {
          "output_type": "stream",
          "name": "stdout",
          "text": [
            "before function call\n",
            "this is what the function prints: {'name': 'max', 'height': 1.69}\n",
            "after function call\n"
          ]
        }
      ]
    },
    {
      "cell_type": "code",
      "metadata": {
        "id": "nhgOGsa8a8Sz"
      },
      "source": [
        "# positional arguments\n",
        "def concatenate_and_print( s1, s2 ):\n",
        "    print( s1 + ' - ' + s2 )\n",
        "    print( s1 , ' - ' , s2 )"
      ],
      "execution_count": null,
      "outputs": []
    },
    {
      "cell_type": "code",
      "metadata": {
        "colab": {
          "base_uri": "https://localhost:8080/"
        },
        "id": "Izu3cT7jbL4L",
        "outputId": "8c1adb69-8fc7-4c04-cd2c-727e84f88324"
      },
      "source": [
        "print('before function call')\n",
        "concatenate_and_print( 'lala' , 'lolo' )\n",
        "print('after function call')"
      ],
      "execution_count": null,
      "outputs": [
        {
          "output_type": "stream",
          "name": "stdout",
          "text": [
            "before function call\n",
            "lala - lolo\n",
            "lala  -  lolo\n",
            "after function call\n"
          ]
        }
      ]
    },
    {
      "cell_type": "code",
      "metadata": {
        "id": "ZrE_iOduc3mJ"
      },
      "source": [
        "# keyword argument\n",
        "def concatenate_and_print2( s1='xixi', s2='xoxo' ):\n",
        "    print( s1 + ' - ' + s2 )\n",
        "    print( s1 , ' - ' , s2 )"
      ],
      "execution_count": null,
      "outputs": []
    },
    {
      "cell_type": "code",
      "metadata": {
        "colab": {
          "base_uri": "https://localhost:8080/"
        },
        "id": "Ct0DdgN3dASS",
        "outputId": "243156c7-abff-4881-a504-08ab8a87359a"
      },
      "source": [
        "print('before function call')\n",
        "# error:\n",
        "# concatenate_and_print2( s2='lala', 'mama' )\n",
        "# error:\n",
        "# concatenate_and_print2( 'lala', s1='mama' )\n",
        "# correct:\n",
        "# concatenate_and_print2(  )\n",
        "# correct:\n",
        "# concatenate_and_print2( 'lala' ) # assumes s1 as positional\n",
        "# correct:\n",
        "# concatenate_and_print2( s2='lala' ) # s1 gets the default value\n",
        "# correct:\n",
        "concatenate_and_print2( s2='lala', s1='lolo' )\n",
        "print('after function call')"
      ],
      "execution_count": null,
      "outputs": [
        {
          "output_type": "stream",
          "name": "stdout",
          "text": [
            "before function call\n",
            "xixi - lala\n",
            "xixi  -  lala\n",
            "after function call\n"
          ]
        }
      ]
    },
    {
      "cell_type": "code",
      "metadata": {
        "id": "vFwGMJKHfyH5"
      },
      "source": [
        "# functions that return variables\n",
        "def concatenate_and_return( s1='xixi', s2='xoxo' ):\n",
        "    s = s1 + ' - ' + s2\n",
        "    return s, s1, s2"
      ],
      "execution_count": null,
      "outputs": []
    },
    {
      "cell_type": "code",
      "metadata": {
        "colab": {
          "base_uri": "https://localhost:8080/"
        },
        "id": "HzCCSJgXgHbY",
        "outputId": "44c6c6e4-1c6a-419d-d80f-7a2fcf338f70"
      },
      "source": [
        "print('before')\n",
        "_, y, _ = concatenate_and_return()\n",
        "print(y)\n",
        "print('after')"
      ],
      "execution_count": null,
      "outputs": [
        {
          "output_type": "stream",
          "name": "stdout",
          "text": [
            "before\n",
            "xixi\n",
            "after\n"
          ]
        }
      ]
    },
    {
      "cell_type": "code",
      "metadata": {
        "colab": {
          "base_uri": "https://localhost:8080/"
        },
        "id": "5c_yM-Oyi2hE",
        "outputId": "5ea25e83-cbc0-4016-acfa-d6e61a00b8ef"
      },
      "source": [
        "# concatenate_and_return in lambda fashion\n",
        "# lambda arguments : expression\n",
        "concatenate_and_return = lambda s1='xixi', s2='xoxo' : s1 + ' - ' + s2\n",
        "print( concatenate_and_return( s2='lala' ) )"
      ],
      "execution_count": null,
      "outputs": [
        {
          "output_type": "stream",
          "name": "stdout",
          "text": [
            "xixi - lala\n"
          ]
        }
      ]
    }
  ]
}