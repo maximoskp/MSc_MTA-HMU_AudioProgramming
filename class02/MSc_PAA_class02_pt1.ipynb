{
  "nbformat": 4,
  "nbformat_minor": 0,
  "metadata": {
    "colab": {
      "name": "MSc_PAA_class02_pt1.ipynb",
      "provenance": [],
      "collapsed_sections": []
    },
    "kernelspec": {
      "name": "python3",
      "display_name": "Python 3"
    },
    "language_info": {
      "name": "python"
    }
  },
  "cells": [
    {
      "cell_type": "code",
      "metadata": {
        "colab": {
          "base_uri": "https://localhost:8080/"
        },
        "id": "pmgH1hHPAcPP",
        "outputId": "dce6cdab-56d9-4aa1-ecbb-8388a188b144"
      },
      "source": [
        "# variable assignment\n",
        "x = 5\n",
        "print('x = ' + str(x)) # string concatenation within prin"
      ],
      "execution_count": null,
      "outputs": [
        {
          "output_type": "stream",
          "name": "stdout",
          "text": [
            "x = 5\n"
          ]
        }
      ]
    },
    {
      "cell_type": "markdown",
      "metadata": {
        "id": "UFHc0yFFJFEd"
      },
      "source": [
        ""
      ]
    },
    {
      "cell_type": "code",
      "metadata": {
        "colab": {
          "base_uri": "https://localhost:8080/"
        },
        "id": "Lj1u6oKXCsqO",
        "outputId": "024c7300-26c0-4646-de9e-3221a45a4f19"
      },
      "source": [
        "x = 'lala'\n",
        "y = 'lolo'\n",
        "z = x + y # '+' is concatenation of strings\n",
        "print(z)"
      ],
      "execution_count": null,
      "outputs": [
        {
          "output_type": "stream",
          "name": "stdout",
          "text": [
            "lalalolo\n"
          ]
        }
      ]
    },
    {
      "cell_type": "code",
      "metadata": {
        "colab": {
          "base_uri": "https://localhost:8080/"
        },
        "id": "BygeplXmDubS",
        "outputId": "be066302-91e6-4844-ab89-209c0724df34"
      },
      "source": [
        "x = 5\n",
        "# y = 7\n",
        "y = x\n",
        "\n",
        "id_x = id(x)\n",
        "id_y = id(y)\n",
        "print('id of x is: ' + str(id_x))\n",
        "print('id of y is: ' + str(id_y))\n",
        "\n",
        "\n",
        "x = 9 # assignment, new \"variable\", with new id\n",
        "\n",
        "id_x = id(x)\n",
        "id_y = id(y)\n",
        "print('id of x is: ' + str(id_x))\n",
        "print('id of y is: ' + str(id_y))"
      ],
      "execution_count": null,
      "outputs": [
        {
          "output_type": "stream",
          "name": "stdout",
          "text": [
            "id of x is: 94266417494656\n",
            "id of y is: 94266417494656\n",
            "id of x is: 94266417494784\n",
            "id of y is: 94266417494656\n"
          ]
        }
      ]
    },
    {
      "cell_type": "code",
      "metadata": {
        "colab": {
          "base_uri": "https://localhost:8080/"
        },
        "id": "nfwlM6j9F1f3",
        "outputId": "492f7143-ef89-4390-dfd0-5d2588109e7d"
      },
      "source": [
        "x = 5\n",
        "print('id of x is: ' + str( id(x) ) )\n",
        "x += 1 # is like x = x + 1\n",
        "print('id of x is: ' + str( id(x) ) )\n",
        "x -= 1\n",
        "print('id of x is: ' + str( id(x) ) )"
      ],
      "execution_count": null,
      "outputs": [
        {
          "output_type": "stream",
          "name": "stdout",
          "text": [
            "id of x is: 94266417494656\n",
            "id of x is: 94266417494688\n",
            "id of x is: 94266417494656\n"
          ]
        }
      ]
    },
    {
      "cell_type": "code",
      "metadata": {
        "colab": {
          "base_uri": "https://localhost:8080/"
        },
        "id": "eNWDIE47FH6S",
        "outputId": "7d65886f-71a6-4eeb-ed4f-71e266d5b2d5"
      },
      "source": [
        "x = [1,2,3]\n",
        "y = [4,5,6]\n",
        "\n",
        "id_x = id(x)\n",
        "id_y = id(y)\n",
        "print('id of x is: ' + str(id_x))\n",
        "print('id of y is: ' + str(id_y))"
      ],
      "execution_count": null,
      "outputs": [
        {
          "output_type": "stream",
          "name": "stdout",
          "text": [
            "id of x is: 140422573337248\n",
            "id of y is: 140422504639456\n"
          ]
        }
      ]
    },
    {
      "cell_type": "code",
      "metadata": {
        "colab": {
          "base_uri": "https://localhost:8080/"
        },
        "id": "R4Y60ofjG9yJ",
        "outputId": "290a9668-930d-44fd-a213-23bca193d319"
      },
      "source": [
        "x = [1,2,3]\n",
        "\n",
        "y = x\n",
        "\n",
        "x[1] = 5\n",
        "\n",
        "id_x = id(x)\n",
        "id_y = id(y)\n",
        "print('id of x is: ' + str(id_x))\n",
        "print('id of y is: ' + str(id_y))\n",
        "\n",
        "print('value of x is: ' + str(x))\n",
        "print('value of y is: ' + str(y))"
      ],
      "execution_count": null,
      "outputs": [
        {
          "output_type": "stream",
          "name": "stdout",
          "text": [
            "id of x is: 140422504641792\n",
            "id of y is: 140422504641792\n",
            "value of x is: [1, 5, 3]\n",
            "value of y is: [1, 5, 3]\n"
          ]
        }
      ]
    },
    {
      "cell_type": "code",
      "metadata": {
        "colab": {
          "base_uri": "https://localhost:8080/"
        },
        "id": "ziat8soHIlWh",
        "outputId": "e5813464-b7d7-4f14-d525-13a0e6a328af"
      },
      "source": [
        "# dictionary with my personal information\n",
        "m = {\n",
        "    'name': 'Maximos',\n",
        "    'surname': '2hard2pronounce',\n",
        "    'height': 1.69,\n",
        "    'flights_this_month': ['11_Oct', '18_Oct']\n",
        "}\n",
        "\n",
        "print('m = ', m)\n",
        "print(m['name'])\n",
        "print(m['flights_this_month'][0])\n",
        "\n",
        "# we can get all keys of the dictionary\n",
        "k = list( m.keys() )\n",
        "print(k)\n",
        "# and values\n",
        "v = list( m.values() )\n",
        "print(v)\n",
        "# access key by index\n",
        "print( m[ k[1] ] )\n",
        "# equivalent to:\n",
        "print( m[ 'surname' ] )"
      ],
      "execution_count": null,
      "outputs": [
        {
          "output_type": "stream",
          "name": "stdout",
          "text": [
            "m =  {'name': 'Maximos', 'surname': '2hard2pronounce', 'height': 1.69, 'flights_this_month': ['11_Oct', '18_Oct']}\n",
            "Maximos\n",
            "11_Oct\n",
            "['name', 'surname', 'height', 'flights_this_month']\n",
            "['Maximos', '2hard2pronounce', 1.69, ['11_Oct', '18_Oct']]\n",
            "2hard2pronounce\n",
            "2hard2pronounce\n"
          ]
        }
      ]
    },
    {
      "cell_type": "code",
      "metadata": {
        "colab": {
          "base_uri": "https://localhost:8080/"
        },
        "id": "BaWRo2-qLHZk",
        "outputId": "130f98dc-b334-4f24-c546-5796fa25ea0b"
      },
      "source": [
        "# dictionary with my personal information\n",
        "m = {\n",
        "    'name': 'Maximos',\n",
        "    'surname': '2hard2pronounce',\n",
        "    'height': 1.69,\n",
        "    'flights_this_month': ['11_Oct', '18_Oct']\n",
        "}\n",
        "\n",
        "n = m\n",
        "\n",
        "# n = {\n",
        "#     'name': 'Maximos',\n",
        "#     'surname': '2hard2pronounce',\n",
        "#     'height': 1.69,\n",
        "#     'flights_this_month': ['11_Oct', '18_Oct']\n",
        "# }\n",
        "\n",
        "print('id of m is: ' + str(id(m)))\n",
        "print('id of n is: ' + str(id(n)))\n",
        "\n",
        "# n['height'] = 1.56\n",
        "\n",
        "print('m: ' + repr(m))\n",
        "print('n: ' + repr(n))"
      ],
      "execution_count": null,
      "outputs": [
        {
          "output_type": "stream",
          "name": "stdout",
          "text": [
            "id of m is: 140422504284240\n",
            "id of n is: 140422504284240\n",
            "m: {'name': 'Maximos', 'surname': '2hard2pronounce', 'height': 1.69, 'flights_this_month': ['11_Oct', '18_Oct']}\n",
            "n: {'name': 'Maximos', 'surname': '2hard2pronounce', 'height': 1.69, 'flights_this_month': ['11_Oct', '18_Oct']}\n"
          ]
        }
      ]
    },
    {
      "cell_type": "code",
      "metadata": {
        "id": "tVyBpwOAUBP3"
      },
      "source": [
        "# function examples\n",
        "def count_how_many_letters( string, character ):\n",
        "    # returns how many occurences of \"character\" there are in \"string\"\n",
        "    # e.g.\n",
        "    # count_how_many_letters( 'lala', 'a' ) should return 2\n",
        "    # comment: within a python function, code has the same indentation\n",
        "    # function name can be anything\n",
        "    counter = 0\n",
        "    for c in string:\n",
        "        if c == character:\n",
        "            counter += 1\n",
        "    return counter\n",
        "# the function does not run within this block, it's just defined"
      ],
      "execution_count": null,
      "outputs": []
    },
    {
      "cell_type": "code",
      "metadata": {
        "colab": {
          "base_uri": "https://localhost:8080/"
        },
        "id": "QqtAG4ugVq4q",
        "outputId": "3c8033ee-67ac-49db-888d-319b0669cc48"
      },
      "source": [
        "# functions that *return* somethin are called as\n",
        "# y = function(x1, x2, ...)\n",
        "# to run the function, we need to call it\n",
        "z = count_how_many_letters('test_pattern','t')\n",
        "print(z)"
      ],
      "execution_count": null,
      "outputs": [
        {
          "output_type": "stream",
          "name": "stdout",
          "text": [
            "1\n"
          ]
        }
      ]
    },
    {
      "cell_type": "code",
      "metadata": {
        "colab": {
          "base_uri": "https://localhost:8080/"
        },
        "id": "gW6dOF8iWygR",
        "outputId": "954cd340-7fb6-4114-a321-31c7acbc24e5"
      },
      "source": [
        "# application of for loop in strings\n",
        "s = 'lalala'\n",
        "print( len(s) )\n",
        "for letter in s:\n",
        "    print(letter)"
      ],
      "execution_count": null,
      "outputs": [
        {
          "output_type": "stream",
          "name": "stdout",
          "text": [
            "6\n",
            "l\n",
            "a\n",
            "l\n",
            "a\n",
            "l\n",
            "a\n"
          ]
        }
      ]
    },
    {
      "cell_type": "code",
      "metadata": {
        "colab": {
          "base_uri": "https://localhost:8080/"
        },
        "id": "CE_2lVW4Xo4E",
        "outputId": "3371d57a-0d35-471b-cef8-3990abcc7ed0"
      },
      "source": [
        "# '=' vs '=='\n",
        "x = 5 # assignment: x represents the value 5\n",
        "print(x)\n",
        "\n",
        "print( x == 5 ) # comparing 6 with 5: True or False value"
      ],
      "execution_count": null,
      "outputs": [
        {
          "output_type": "stream",
          "name": "stdout",
          "text": [
            "5\n",
            "True\n"
          ]
        }
      ]
    }
  ]
}