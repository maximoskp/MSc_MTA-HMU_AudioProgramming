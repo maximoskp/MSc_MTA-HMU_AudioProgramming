{
  "nbformat": 4,
  "nbformat_minor": 0,
  "metadata": {
    "colab": {
      "name": "class05_exercise_questions.ipynb",
      "provenance": [],
      "collapsed_sections": []
    },
    "kernelspec": {
      "name": "python3",
      "display_name": "Python 3"
    },
    "language_info": {
      "name": "python"
    }
  },
  "cells": [
    {
      "cell_type": "code",
      "metadata": {
        "id": "III3Si2UcZtT"
      },
      "source": [
        "class Circle:\n",
        "    def __init__(self, center_x=0, center_y=0, radius=1):\n",
        "        self.x = center_x\n",
        "        self.y = center_y\n",
        "        self.radius = radius\n",
        "    # end __init__\n",
        "    \n",
        "    def check_if_cocentric( self, c ):\n",
        "        if self.x == c.x and self.y == c.y:\n",
        "            print('cocentric')\n",
        "        else:\n",
        "            print('NOT')\n",
        "    # end check_if_cocentric"
      ],
      "execution_count": null,
      "outputs": []
    },
    {
      "cell_type": "code",
      "metadata": {
        "id": "bGuEczvpd_61"
      },
      "source": [
        "c1 = Circle()\n",
        "c2 = Circle(center_x = 2, radius = 5)"
      ],
      "execution_count": null,
      "outputs": []
    },
    {
      "cell_type": "code",
      "metadata": {
        "colab": {
          "base_uri": "https://localhost:8080/"
        },
        "id": "HOFvsT7geF7u",
        "outputId": "16ac9770-aea4-407d-df04-27c995b67d88"
      },
      "source": [
        "c1.check_if_cocentric(c2)"
      ],
      "execution_count": null,
      "outputs": [
        {
          "output_type": "stream",
          "name": "stdout",
          "text": [
            "NOT\n"
          ]
        }
      ]
    }
  ]
}